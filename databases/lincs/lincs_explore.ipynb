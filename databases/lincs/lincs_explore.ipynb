{
 "cells": [
  {
   "cell_type": "code",
   "execution_count": null,
   "id": "9049e7e8",
   "metadata": {},
   "outputs": [],
   "source": [
    "# See https://github.com/cmap/cmapPy/tree/master/tutorials for other examples of how to use the cmapPy library\n",
    "# and explore this data.\n",
    "\n",
    "\n",
    "%load_ext autoreload\n",
    "%autoreload 2\n",
    "D='/home/ubuntu/2xar/ws/downloads/lincs/LINCS2020/'"
   ]
  },
  {
   "cell_type": "code",
   "execution_count": null,
   "id": "1ac4322d",
   "metadata": {},
   "outputs": [],
   "source": [
    "from cmapPy.pandasGEXpress.parse import parse\n",
    "import pandas as pd\n",
    "sig_info = pd.read_csv(D+\"siginfo_beta.txt\", sep=\"\\t\")"
   ]
  },
  {
   "cell_type": "code",
   "execution_count": null,
   "id": "684f909c",
   "metadata": {},
   "outputs": [],
   "source": [
    "display(sig_info.columns)\n",
    "sig_info"
   ]
  },
  {
   "cell_type": "code",
   "execution_count": null,
   "id": "74705e49",
   "metadata": {},
   "outputs": [],
   "source": [
    "cmp_info = pd.read_csv(D+\"compoundinfo_beta.txt\", sep=\"\\t\")\n",
    "cmp_info"
   ]
  },
  {
   "cell_type": "code",
   "execution_count": null,
   "id": "2fad4eb6",
   "metadata": {},
   "outputs": [],
   "source": [
    "gene_info = pd.read_csv(D+\"geneinfo_beta.txt\", sep=\"\\t\")\n",
    "gene_info"
   ]
  },
  {
   "cell_type": "code",
   "execution_count": null,
   "id": "564b3e9f",
   "metadata": {},
   "outputs": [],
   "source": [
    "cmp_info"
   ]
  },
  {
   "cell_type": "code",
   "execution_count": null,
   "id": "9e023544",
   "metadata": {},
   "outputs": [],
   "source": [
    "\n",
    "vorinostat_ids = sig_info[\"sig_id\"][sig_info[\"cmap_name\"] == \"vorinostat\"]\n",
    "vorinostat_ids"
   ]
  },
  {
   "cell_type": "code",
   "execution_count": null,
   "id": "3b355555",
   "metadata": {},
   "outputs": [],
   "source": [
    "# Requires the control dataset to be downloaded, currently not part of the ETL.\n",
    "# ctl_col = parse(D+\"level5_beta_ctl_n58022x12328.gctx\", col_meta_only=True)\n",
    "#display(ctl_col.index.tolist())\n",
    "# ctl_row = parse(D+\"level5_beta_ctl_n58022x12328.gctx\", row_meta_only=True)\n",
    "#display(ctl_row)\n"
   ]
  },
  {
   "cell_type": "code",
   "execution_count": null,
   "id": "38fa77d3",
   "metadata": {},
   "outputs": [],
   "source": [
    "#sig_info[sig_info[\"sig_id\"].isin(ctl_col.index.tolist())]['cmap_name'].unique()"
   ]
  },
  {
   "cell_type": "code",
   "execution_count": null,
   "id": "a6644696",
   "metadata": {},
   "outputs": [],
   "source": [
    "sig_info[(sig_info[\"cmap_name\"] == \"DMSO\")]"
   ]
  },
  {
   "cell_type": "code",
   "execution_count": null,
   "id": "a20a31db",
   "metadata": {},
   "outputs": [],
   "source": [
    "\n",
    "DMSO_ids = sig_info[\"sig_id\"][(sig_info[\"cmap_name\"] == \"DMSO\") & (sig_info[\"pert_type\"] == \"ctl_vehicle\")]\n",
    "DMSO_ids"
   ]
  },
  {
   "cell_type": "code",
   "execution_count": null,
   "id": "2dfd7187",
   "metadata": {},
   "outputs": [],
   "source": [
    "vorin_data = parse(D+\"level5_beta_trt_cp_n720216x12328.gctx\", cid=vorinostat_ids)\n",
    "vorin_data\n"
   ]
  },
  {
   "cell_type": "code",
   "execution_count": null,
   "id": "995db303",
   "metadata": {},
   "outputs": [],
   "source": [
    "vorin_data.data_df.shape"
   ]
  },
  {
   "cell_type": "code",
   "execution_count": null,
   "id": "c88f0787",
   "metadata": {},
   "outputs": [],
   "source": [
    "vorinostat_sig_id_info =  sig_info[sig_info[\"cmap_name\"] == \"vorinostat\"]\n",
    "# let's look at a couple rows! \n",
    "display(vorinostat_sig_id_info[0:5])\n",
    "vorinostat_sig_id_info.set_index(\"sig_id\", inplace=True)\n",
    "# now the data frame is indexed by sig_ids consistent with those of the data_df:\n",
    "vorin_data.col_metadata_df = vorinostat_sig_id_info\n",
    "vorin_data.multi_index_df"
   ]
  },
  {
   "cell_type": "code",
   "execution_count": null,
   "id": "51a24c80",
   "metadata": {},
   "outputs": [],
   "source": [
    "gene_info = pd.read_csv(D+\"geneinfo_beta.txt\", sep=\"\\t\")\n",
    "gene_info.set_index('gene_id', inplace=True)\n",
    "gene_info.index = gene_info.index.astype('str')\n",
    "vorin_data.row_metadata_df = gene_info"
   ]
  },
  {
   "cell_type": "code",
   "execution_count": null,
   "id": "e19a303f",
   "metadata": {},
   "outputs": [],
   "source": [
    "import cmapPy.pandasGEXpress.GCToo as GCToo\n",
    "\n",
    "vorin_multi = GCToo.GCToo(data_df=vorin_data.data_df.copy(), \n",
    "                                              row_metadata_df=vorin_data.row_metadata_df.copy(), \n",
    "                                              col_metadata_df=vorin_data.col_metadata_df.copy(), \n",
    "                                             make_multiindex=True)\n",
    "\n",
    "vorin_multi.multi_index_df"
   ]
  },
  {
   "cell_type": "code",
   "execution_count": null,
   "id": "dc782313",
   "metadata": {},
   "outputs": [],
   "source": [
    "vorin_multi.data_df.mean(axis=1).values"
   ]
  },
  {
   "cell_type": "code",
   "execution_count": null,
   "id": "d0a66c1a",
   "metadata": {},
   "outputs": [],
   "source": [
    "df = vorin_multi.data_df\n",
    "df"
   ]
  },
  {
   "cell_type": "code",
   "execution_count": null,
   "id": "c2617190",
   "metadata": {},
   "outputs": [],
   "source": [
    "sub_ids = vorinostat_ids[2:5]\n",
    "df[sub_ids]"
   ]
  },
  {
   "cell_type": "code",
   "execution_count": null,
   "id": "b6829739",
   "metadata": {},
   "outputs": [],
   "source": [
    "import plotly.express as px\n",
    "import plotly.graph_objects as go\n",
    "\n",
    "fig = go.Figure(go.Heatmap(\n",
    "        z=df.values[:200,0:200],\n",
    "        colorscale='Picnic'))\n",
    "fig.show()"
   ]
  },
  {
   "cell_type": "code",
   "execution_count": null,
   "id": "7d475355",
   "metadata": {
    "scrolled": false
   },
   "outputs": [],
   "source": [
    "from dtk.plot import plotly_heatmap\n",
    "\n",
    "if False:\n",
    "    row_labels = [str(x) for x in range(200)]\n",
    "    pp = plotly_heatmap(\n",
    "        df.values[:200, :200],\n",
    "        row_labels,\n",
    "        reorder_cols=True,\n",
    "        width=1200,\n",
    "        height=1200,\n",
    "        colorscale='Picnic'\n",
    "    )\n",
    "\n",
    "    pp.as_figure().show()"
   ]
  },
  {
   "cell_type": "code",
   "execution_count": null,
   "id": "6b446136",
   "metadata": {},
   "outputs": [],
   "source": [
    "mdf = vorin_multi.multi_index_df\n",
    "landmark_only = mdf.query(\"feature_space == 'landmark'\")\n",
    "landmark_only"
   ]
  },
  {
   "cell_type": "code",
   "execution_count": null,
   "id": "900f003f",
   "metadata": {},
   "outputs": [],
   "source": [
    "\n",
    "fig = go.Figure(go.Heatmap(\n",
    "        z=landmark_only.values[:,0:200],\n",
    "        colorscale='Picnic'))\n",
    "fig.show()"
   ]
  },
  {
   "cell_type": "code",
   "execution_count": null,
   "id": "5f10b455",
   "metadata": {},
   "outputs": [],
   "source": [
    "landmark_only = landmark_only.reindex(landmark_only.abs().mean(axis=0).sort_values().index, axis=1)\n",
    "fig = go.Figure(go.Heatmap(\n",
    "        z=landmark_only.values[:,0::5],\n",
    "        colorscale='Picnic'))\n",
    "fig.show()"
   ]
  },
  {
   "cell_type": "code",
   "execution_count": null,
   "id": "5f4aa775",
   "metadata": {},
   "outputs": [],
   "source": [
    "landmark_only = landmark_only.reindex(landmark_only.mean(axis=1).sort_values().index, axis=0)\n",
    "fig = go.Figure(go.Heatmap(\n",
    "        z=landmark_only.values[:,0::5],\n",
    "        colorscale='Picnic'))\n",
    "fig.show()"
   ]
  },
  {
   "cell_type": "code",
   "execution_count": null,
   "id": "4c2b9c56",
   "metadata": {},
   "outputs": [],
   "source": [
    "one_cell = landmark_only.xs('A375', level='cell_iname', axis=1)\n",
    "one_cell"
   ]
  },
  {
   "cell_type": "code",
   "execution_count": null,
   "id": "97cd7571",
   "metadata": {},
   "outputs": [],
   "source": [
    "fig = go.Figure(go.Heatmap(\n",
    "        z=one_cell.values,\n",
    "        colorscale='Picnic'))\n",
    "fig.show()"
   ]
  },
  {
   "cell_type": "code",
   "execution_count": null,
   "id": "a07b4ead",
   "metadata": {},
   "outputs": [],
   "source": [
    "col_ord = sorted(landmark_only.columns, key=lambda x: (x[2], x[6]) )\n",
    "landmark_by_dose = landmark_only.reindex(col_ord, axis=1)\n",
    "landmark_by_dose"
   ]
  },
  {
   "cell_type": "code",
   "execution_count": null,
   "id": "f5e6c1ce",
   "metadata": {},
   "outputs": [],
   "source": [
    "fig = go.Figure(go.Heatmap(\n",
    "        z=landmark_by_dose.values[:, ::5],\n",
    "        colorscale='Picnic'))\n",
    "fig.show()"
   ]
  },
  {
   "cell_type": "code",
   "execution_count": null,
   "id": "a48f74a7",
   "metadata": {},
   "outputs": [],
   "source": []
  }
 ],
 "metadata": {
  "kernelspec": {
   "display_name": "Python 3 (ipykernel)",
   "language": "python",
   "name": "python3"
  },
  "language_info": {
   "codemirror_mode": {
    "name": "ipython",
    "version": 3
   },
   "file_extension": ".py",
   "mimetype": "text/x-python",
   "name": "python",
   "nbconvert_exporter": "python",
   "pygments_lexer": "ipython3",
   "version": "3.7.10"
  }
 },
 "nbformat": 4,
 "nbformat_minor": 5
}
